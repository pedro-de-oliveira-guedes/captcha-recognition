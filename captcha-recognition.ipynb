{
 "cells": [
  {
   "cell_type": "markdown",
   "metadata": {},
   "source": [
    "# Reconhecimento de Captchas\n",
    "\n",
    "**Aluno:** Pedro de Oliveira Guedes\n",
    "\n",
    "**Semestre:** 2024.2\n",
    "\n",
    "## Introdução\n",
    "Este trabalho tem por objetivo explorar diferentes técnicas para realizar o reconhecimento de caracteres em imagens, mais especificamente em captchas. Para isso, será utilizado um dataset com 10 mil captchas disponibilizado nos arquivos de aula da disciplina de **Introdução à Computação Visual**.\n",
    "\n",
    "As técnicas empregadas são duas:\n",
    "\n",
    "1. **HOG + SVM**: ***Histogram of Oriented Gradients***, ou por abreviação ***HOG***, é uma técnica que extrai características de uma imagem baseando-se na orientação dos gradientes. Com as características extraídas, será treinado um modelo de classificação baseado em ***Support Vector Machine***, ou por abreviação ***SVM***, que utilizará as características extraídas e os rótulos das imagens para classificar os caracteres.\n",
    "\n",
    "2. **CNN**: ***Convolutional Neural Network***, ou por abreviação ***CNN***, é uma técnica de aprendizado profundo que utiliza camadas convolucionais para extrair características de uma imagem. Com as características extraídas, será treinado um modelo de classificação que utilizará as características extraídas e os rótulos das imagens para classificar os caracteres.\n",
    "\n",
    "Como as imagens necessárias para treino, validação e teste, bem como os rótulos de cada uma delas, já foram fornecidas e já estão separadas, a organização deste trabalho será feita através das seguintes seções:\n",
    "\n",
    "1. **Funções Comuns**: Nesta seção, serão definidas funções comuns que serão utilizadas em ambas as técnicas, como a avaliação dos modelos gerados.\n",
    "\n",
    "2. **HOG + SVM**: Nesta seção, será feita a extração das características das imagens utilizando a técnica ***HOG***, bem como o treinamento do modelo de classificação utilizando a técnica ***SVM***. Ao fim, será feita a avaliação do modelo gerado.\n",
    "\n",
    "3. **CNN**: Nesta seção, será feita a extração das características das imagens utilizando a técnica ***CNN***, bem como o treinamento do modelo de classificação. Ao fim, será feita a avaliação do modelo gerado.\n",
    "\n",
    "4. **Conclusão**: Nesta seção, será feita uma comparação entre as técnicas utilizadas, bem como uma análise dos resultados obtidos."
   ]
  },
  {
   "cell_type": "markdown",
   "metadata": {},
   "source": [
    "## Funções Comuns\n",
    "Cada uma das funções comuns terá seu próprio subtítulo, com uma breve descrição do objetivo."
   ]
  },
  {
   "cell_type": "markdown",
   "metadata": {},
   "source": [
    "### Download e extração do Dataset\n",
    "A pasta contendo os captchas separados em conjuntos de treino, validação e teste foi disponibilizada no Google Drive. A função abaixo faz o download para a pasta local e extrai o conteúdo do arquivo."
   ]
  },
  {
   "cell_type": "code",
   "execution_count": 1,
   "metadata": {},
   "outputs": [],
   "source": [
    "import os\n",
    "import requests\n",
    "import zipfile\n",
    "\n",
    "\n",
    "def save_response_content(response):\n",
    "    CHUNK_SIZE = 32768\n",
    "\n",
    "    with open(\"captcha_10k.zip\", \"wb\") as f:\n",
    "        for chunk in response.iter_content(CHUNK_SIZE):\n",
    "            if chunk:\n",
    "                f.write(chunk)\n",
    "\n",
    "\n",
    "def extract_captchas_zip():\n",
    "    with zipfile.ZipFile(\"captcha_10k.zip\", 'r') as zip_ref:\n",
    "        zip_ref.extractall()\n",
    "\n",
    "    os.remove(\"captcha_10k.zip\")\n",
    "\n",
    "\n",
    "def extract_query_string(response_content: str) -> dict:\n",
    "    content_id = response_content.split('<input type=\"hidden\" name=\"id\" value=\"')[1].split('\">')[0]\n",
    "    export = response_content.split('<input type=\"hidden\" name=\"export\" value=\"')[1].split('\">')[0]\n",
    "    confirm = response_content.split('<input type=\"hidden\" name=\"confirm\" value=\"')[1].split('\">')[0]\n",
    "    uuid = response_content.split('<input type=\"hidden\" name=\"uuid\" value=\"')[1].split('\">')[0]\n",
    "\n",
    "    return {\n",
    "        'id': content_id,\n",
    "        'export': export,\n",
    "        'confirm': confirm,\n",
    "        'uuid': uuid\n",
    "    }\n",
    "\n",
    "\n",
    "def download_captchas_from_google_drive():\n",
    "    if os.path.exists(\"captcha_10k\"):\n",
    "        return\n",
    "\n",
    "    BASE_URL = \"https://drive.google.com/uc?export=download\"\n",
    "    DOWNLOAD_BASE_URL = \"https://drive.usercontent.google.com/download\"\n",
    "\n",
    "    session = requests.Session()\n",
    "    response = session.get(BASE_URL, params={'id': \"1mZlwRlSOeNBjFYFzI25RgKvomKRHeJ1Y\"}, stream=True)\n",
    "    \n",
    "    query_string = extract_query_string(response.text)\n",
    "    \n",
    "    response = session.get(DOWNLOAD_BASE_URL, params=query_string, stream=True)\n",
    "    \n",
    "    save_response_content(response)\n",
    "\n",
    "    extract_captchas_zip()"
   ]
  },
  {
   "cell_type": "markdown",
   "metadata": {},
   "source": [
    "## Referências\n",
    "- [**Intuição por trás do algoritmo HOG**](https://www.youtube.com/watch?v=28xk5i1_7Zc)\n",
    "- [**Intuição por trás do algoritmo SVM - Alternativa**](https://www.youtube.com/watch?v=RaaGoB8XnxM)"
   ]
  }
 ],
 "metadata": {
  "kernelspec": {
   "display_name": "Python 3",
   "language": "python",
   "name": "python3"
  },
  "language_info": {
   "codemirror_mode": {
    "name": "ipython",
    "version": 3
   },
   "file_extension": ".py",
   "mimetype": "text/x-python",
   "name": "python",
   "nbconvert_exporter": "python",
   "pygments_lexer": "ipython3",
   "version": "3.12.0"
  }
 },
 "nbformat": 4,
 "nbformat_minor": 2
}
